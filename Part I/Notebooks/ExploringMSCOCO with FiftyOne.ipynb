{
 "cells": [
  {
   "cell_type": "markdown",
   "metadata": {},
   "source": [
    "### FiftyOne\n",
    "\n",
    "FiftyOne is an open-source tool for building and exploring datasets and the application of Machine Learning Models on them.\n",
    "\n",
    "It enables easy visualizations and to interpret models faster\n",
    "\n",
    "**Cons:**\n",
    "- Arranging your data for being loaded requires some effort\n",
    "\n",
    "\n",
    "**Pros:**\n",
    "- Very easy if the [Datasets are already present](https://docs.voxel51.com/integrations/index.html) and you want to apply [pretrained models](https://docs.voxel51.com/user_guide/model_zoo/index.html) to it\n",
    "- It allows you to:\n",
    "    - visualize complex labels\n",
    "    - evaluate (and compare) the output of your models\n",
    "    - explore scenarios\n",
    "    - identify examples\n",
    "    - queries are pandas-style\n",
    "    - ...\n",
    "\n"
   ]
  },
  {
   "cell_type": "code",
   "execution_count": 1,
   "metadata": {
    "tags": []
   },
   "outputs": [
    {
     "name": "stdout",
     "output_type": "stream",
     "text": [
      "Downloading split 'validation' to '/Users/luciacpassaro/fiftyone/coco-2017/validation' if necessary\n",
      "Found annotations at '/Users/luciacpassaro/fiftyone/coco-2017/raw/instances_val2017.json'\n",
      "Sufficient images already downloaded\n",
      "Existing download of split 'validation' is sufficient\n",
      "Loading existing dataset 'coco-2017-validation-250'. To reload from disk, either delete the existing dataset or provide a custom `dataset_name` to use\n"
     ]
    }
   ],
   "source": [
    "import fiftyone as fo\n",
    "import fiftyone.zoo as foz\n",
    "\n",
    "dataset = foz.load_zoo_dataset(\n",
    "  \"coco-2017\", \n",
    "  split=\"validation\",\n",
    "  label_types=[\"detections\", \"segmentations\"],\n",
    "  max_samples=250,\n",
    ")\n"
   ]
  },
  {
   "cell_type": "code",
   "execution_count": 3,
   "metadata": {
    "tags": []
   },
   "outputs": [
    {
     "data": {
      "text/html": [
       "\n",
       "        <iframe\n",
       "            width=\"100%\"\n",
       "            height=\"800\"\n",
       "            src=\"http://localhost:5151/?notebook=True&subscription=fe8f28f7-023c-4aa3-956f-880d074b7083\"\n",
       "            frameborder=\"0\"\n",
       "            allowfullscreen\n",
       "            \n",
       "        ></iframe>\n",
       "        "
      ],
      "text/plain": [
       "<IPython.lib.display.IFrame at 0x7f84a282c898>"
      ]
     },
     "metadata": {},
     "output_type": "display_data"
    }
   ],
   "source": [
    "session = fo.launch_app(dataset)"
   ]
  },
  {
   "cell_type": "code",
   "execution_count": null,
   "metadata": {},
   "outputs": [],
   "source": []
  }
 ],
 "metadata": {
  "kernelspec": {
   "display_name": "lectures_lab",
   "language": "python",
   "name": "lectures_lab"
  },
  "language_info": {
   "codemirror_mode": {
    "name": "ipython",
    "version": 3
   },
   "file_extension": ".py",
   "mimetype": "text/x-python",
   "name": "python",
   "nbconvert_exporter": "python",
   "pygments_lexer": "ipython3",
   "version": "3.7.3"
  }
 },
 "nbformat": 4,
 "nbformat_minor": 5
}
